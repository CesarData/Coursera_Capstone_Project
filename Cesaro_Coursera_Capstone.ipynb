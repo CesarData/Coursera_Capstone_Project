{
  "nbformat": 4,
  "nbformat_minor": 0,
  "metadata": {
    "colab": {
      "provenance": [],
      "authorship_tag": "ABX9TyODmKFmIT1RqHdnHlmqpQFS",
      "include_colab_link": true
    },
    "kernelspec": {
      "name": "python3",
      "display_name": "Python 3"
    },
    "language_info": {
      "name": "python"
    }
  },
  "cells": [
    {
      "cell_type": "markdown",
      "metadata": {
        "id": "view-in-github",
        "colab_type": "text"
      },
      "source": [
        "<a href=\"https://colab.research.google.com/github/CesarData/Coursera_Capstone_Project/blob/main/Cesaro_Coursera_Capstone.ipynb\" target=\"_parent\"><img src=\"https://colab.research.google.com/assets/colab-badge.svg\" alt=\"Open In Colab\"/></a>"
      ]
    },
    {
      "cell_type": "markdown",
      "source": [
        "![Logo IBM](https://s3.amazonaws.com/uploads.uservoice.com/logo/design_setting/226846/original/IBM_Skills_Network_Logo_-_Horizontal-349x100.png?1562256721)\n",
        "\n",
        "#Coursera Capstone"
      ],
      "metadata": {
        "id": "e-GZqxx64En1"
      }
    },
    {
      "cell_type": "markdown",
      "source": [
        "En este notebook se desarrolla el proyecto final de Ciencia de Datos Aplicada - Curso Capstone de **IBM Skills Network**."
      ],
      "metadata": {
        "id": "HpuBw0Z84UT4"
      }
    },
    {
      "cell_type": "code",
      "source": [
        "#Importación de librerías\n",
        "import pandas as pd\n",
        "import numpy as np\n",
        "\n",
        "#Imprimir declaración\n",
        "print('¡Hola, Proyecto Final del Curso!')"
      ],
      "metadata": {
        "colab": {
          "base_uri": "https://localhost:8080/"
        },
        "id": "y-AQOV0d4Ogr",
        "outputId": "58f59a6a-53fb-402a-b6b7-8b10a5f427b0"
      },
      "execution_count": 1,
      "outputs": [
        {
          "output_type": "stream",
          "name": "stdout",
          "text": [
            "¡Hola, Proyecto Final del Curso!\n"
          ]
        }
      ]
    },
    {
      "cell_type": "code",
      "source": [],
      "metadata": {
        "id": "q2-PTC1X69a0"
      },
      "execution_count": null,
      "outputs": []
    }
  ]
}